{
 "cells": [
  {
   "cell_type": "code",
   "execution_count": 1,
   "metadata": {},
   "outputs": [],
   "source": [
    "import netCDF4 as nc\n",
    "import pandas as pd\n",
    "from glob import glob\n",
    "import os\n",
    "import numpy as np\n",
    "\n",
    "def read_nc(data_path, save_dir = None):\n",
    "    '''\n",
    "    读取nc文件\n",
    "    :param data_path: nc文件路径\n",
    "    :param save_dir: 保存路径\n",
    "    :return: dataframe\n",
    "    '''\n",
    "    data = nc.Dataset(data_path)\n",
    "    keys = data.variables.keys()\n",
    "    data_pd = pd.DataFrame()\n",
    "    for key in keys:\n",
    "        if key != 'time':\n",
    "           \n",
    "            a = data.variables[key][:]\n",
    "            print(data.variables[key][:].shape)\n",
    "        # data_pd[key] = data.variables[key][:]\n",
    "    if save_dir is not None:\n",
    "        os.makedirs(save_dir, exist_ok=True)\n",
    "        data_pd.to_csv(os.path.join(save_dir, os.path.basename(data_path).replace('.nc', '.csv')), index=False)\n",
    "    return data_pd"
   ]
  },
  {
   "cell_type": "code",
   "execution_count": 2,
   "metadata": {},
   "outputs": [],
   "source": [
    "data_path = r'E:\\XMU\\231002_reproduce\\weather_1005\\precipitation\\4b6f1f21-51ec-4bff-abfe-d112231c63bb-gpcp_v02r03_monthly_d201401_area_subset.nc'\n",
    "data = nc.Dataset(data_path)\n",
    "keys = data.variables.keys()"
   ]
  },
  {
   "cell_type": "code",
   "execution_count": 4,
   "metadata": {},
   "outputs": [
    {
     "data": {
      "text/plain": [
       "array([[[0.7994413 , 0.86299205],\n",
       "        [0.27157116, 0.5160711 ],\n",
       "        [0.26818517, 0.34116542]]], dtype=float32)"
      ]
     },
     "execution_count": 4,
     "metadata": {},
     "output_type": "execute_result"
    }
   ],
   "source": [
    "data.variables['precip'][:].data"
   ]
  },
  {
   "cell_type": "code",
   "execution_count": 10,
   "metadata": {},
   "outputs": [
    {
     "data": {
      "text/plain": [
       "masked_array(data=[16071.],\n",
       "             mask=False,\n",
       "       fill_value=1e+20,\n",
       "            dtype=float32)"
      ]
     },
     "execution_count": 10,
     "metadata": {},
     "output_type": "execute_result"
    }
   ],
   "source": [
    "data.variables['time'][:]"
   ]
  },
  {
   "cell_type": "code",
   "execution_count": 3,
   "metadata": {},
   "outputs": [
    {
     "data": {
      "text/plain": [
       "dict_keys(['latitude', 'longitude', 'time', 'lat_bounds', 'lon_bounds', 'time_bounds', 'precip', 'precip_error'])"
      ]
     },
     "execution_count": 3,
     "metadata": {},
     "output_type": "execute_result"
    }
   ],
   "source": [
    "keys"
   ]
  },
  {
   "cell_type": "code",
   "execution_count": 8,
   "metadata": {},
   "outputs": [
    {
     "name": "stdout",
     "output_type": "stream",
     "text": [
      "插值后的数值: 0.04804086151791297\n"
     ]
    }
   ],
   "source": [
    "import numpy as np\n",
    "from scipy.interpolate import griddata\n",
    "\n",
    "# 创建一个示例的11x11数组（假设这是你的数据）\n",
    "# 这里的示例数据仅作演示用途，你需要用你的实际数据替换它\n",
    "data = np.random.rand(11, 11)\n",
    "\n",
    "# 创建经度和纬度数组\n",
    "lons = np.linspace(117, 118, 11)\n",
    "lats = np.linspace(23, 24, 11)\n",
    "\n",
    "# 创建网格\n",
    "lon_grid, lat_grid = np.meshgrid(lons, lats)\n",
    "\n",
    "# 要查找的经纬度坐标\n",
    "target_lon = 117.43\n",
    "target_lat = 23.47\n",
    "\n",
    "# 使用griddata进行双线性插值\n",
    "target_value = griddata((lon_grid.flatten(), lat_grid.flatten()), data.flatten(), (target_lon, target_lat), method='linear')\n",
    "\n",
    "print(\"插值后的数值:\", target_value)"
   ]
  },
  {
   "cell_type": "code",
   "execution_count": null,
   "metadata": {},
   "outputs": [],
   "source": []
  },
  {
   "cell_type": "code",
   "execution_count": 19,
   "metadata": {},
   "outputs": [
    {
     "data": {
      "text/plain": [
       "4.3747100830078125"
      ]
     },
     "execution_count": 19,
     "metadata": {},
     "output_type": "execute_result"
    }
   ],
   "source": [
    "data.variables['u10'][:].data.max()"
   ]
  },
  {
   "cell_type": "code",
   "execution_count": 14,
   "metadata": {},
   "outputs": [
    {
     "data": {
      "text/plain": [
       "array([[[False, False, False, False, False, False, False, False,  True,\n",
       "          True,  True],\n",
       "        [False, False, False, False, False,  True,  True,  True,  True,\n",
       "          True,  True],\n",
       "        [False, False, False, False, False,  True,  True,  True,  True,\n",
       "          True,  True],\n",
       "        [False, False, False,  True, False, False,  True,  True,  True,\n",
       "          True,  True],\n",
       "        [ True,  True,  True,  True,  True,  True,  True,  True,  True,\n",
       "          True,  True],\n",
       "        [ True,  True,  True,  True,  True,  True,  True,  True,  True,\n",
       "          True,  True],\n",
       "        [ True,  True,  True,  True,  True,  True,  True,  True,  True,\n",
       "          True,  True],\n",
       "        [ True,  True,  True,  True,  True,  True,  True,  True,  True,\n",
       "          True,  True],\n",
       "        [ True,  True,  True,  True,  True,  True,  True,  True,  True,\n",
       "          True,  True],\n",
       "        [ True,  True,  True,  True,  True,  True,  True,  True,  True,\n",
       "          True,  True],\n",
       "        [ True,  True,  True,  True,  True,  True,  True,  True,  True,\n",
       "          True,  True]],\n",
       "\n",
       "       [[False, False, False, False, False, False, False, False,  True,\n",
       "          True,  True],\n",
       "        [False, False, False, False, False,  True,  True,  True,  True,\n",
       "          True,  True],\n",
       "        [False, False, False, False, False,  True,  True,  True,  True,\n",
       "          True,  True],\n",
       "        [False, False, False,  True, False, False,  True,  True,  True,\n",
       "          True,  True],\n",
       "        [ True,  True,  True,  True,  True,  True,  True,  True,  True,\n",
       "          True,  True],\n",
       "        [ True,  True,  True,  True,  True,  True,  True,  True,  True,\n",
       "          True,  True],\n",
       "        [ True,  True,  True,  True,  True,  True,  True,  True,  True,\n",
       "          True,  True],\n",
       "        [ True,  True,  True,  True,  True,  True,  True,  True,  True,\n",
       "          True,  True],\n",
       "        [ True,  True,  True,  True,  True,  True,  True,  True,  True,\n",
       "          True,  True],\n",
       "        [ True,  True,  True,  True,  True,  True,  True,  True,  True,\n",
       "          True,  True],\n",
       "        [ True,  True,  True,  True,  True,  True,  True,  True,  True,\n",
       "          True,  True]]])"
      ]
     },
     "execution_count": 14,
     "metadata": {},
     "output_type": "execute_result"
    }
   ],
   "source": [
    "data.variables['u10'][:].mask"
   ]
  },
  {
   "cell_type": "code",
   "execution_count": 17,
   "metadata": {},
   "outputs": [
    {
     "data": {
      "text/plain": [
       "<class 'netCDF4._netCDF4.Variable'>\n",
       "int16 u10(time, latitude, longitude)\n",
       "    scale_factor: 6.033756370836067e-05\n",
       "    add_offset: 2.3976291329759585\n",
       "    _FillValue: -32767\n",
       "    missing_value: -32767\n",
       "    units: m s**-1\n",
       "    long_name: 10 metre U wind component\n",
       "unlimited dimensions: \n",
       "current shape = (2, 11, 11)\n",
       "filling on"
      ]
     },
     "execution_count": 17,
     "metadata": {},
     "output_type": "execute_result"
    }
   ],
   "source": [
    "data.variables['u10']"
   ]
  },
  {
   "cell_type": "code",
   "execution_count": null,
   "metadata": {},
   "outputs": [],
   "source": []
  }
 ],
 "metadata": {
  "kernelspec": {
   "display_name": "base",
   "language": "python",
   "name": "python3"
  },
  "language_info": {
   "codemirror_mode": {
    "name": "ipython",
    "version": 3
   },
   "file_extension": ".py",
   "mimetype": "text/x-python",
   "name": "python",
   "nbconvert_exporter": "python",
   "pygments_lexer": "ipython3",
   "version": "3.9.12"
  },
  "orig_nbformat": 4
 },
 "nbformat": 4,
 "nbformat_minor": 2
}
