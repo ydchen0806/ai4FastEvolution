{
 "cells": [
  {
   "cell_type": "code",
   "execution_count": 1,
   "metadata": {},
   "outputs": [],
   "source": [
    "import pandas as pd\n",
    "import os\n",
    "import numpy as np\n",
    "from matplotlib import pyplot as plt\n",
    "import seaborn as sns\n",
    "import scipy.stats as stats"
   ]
  },
  {
   "cell_type": "code",
   "execution_count": 2,
   "metadata": {},
   "outputs": [],
   "source": [
    "msgw_path = r'E:\\XMU\\231002_reproduce\\preprocess_data\\mgwr\\MGWR_session_results.csv'\n",
    "patch_info = r'E:\\XMU\\231002_reproduce\\preprocess_data\\continual_data.xlsx'\n",
    "msgw_data = pd.read_csv(msgw_path)\n",
    "pacth_data = pd.read_excel(patch_info)\n"
   ]
  },
  {
   "cell_type": "code",
   "execution_count": 5,
   "metadata": {},
   "outputs": [],
   "source": [
    "msgw_data['year'] = pacth_data['year']"
   ]
  },
  {
   "cell_type": "code",
   "execution_count": 7,
   "metadata": {},
   "outputs": [
    {
     "data": {
      "text/plain": [
       "<AxesSubplot:xlabel='year'>"
      ]
     },
     "execution_count": 7,
     "metadata": {},
     "output_type": "execute_result"
    },
    {
     "data": {
      "image/png": "[encoded data removed]",
      "text/plain": [
       "<Figure size 432x288 with 1 Axes>"
      ]
     },
     "metadata": {
      "needs_background": "light"
     },
     "output_type": "display_data"
    }
   ],
   "source": [
    "select_feature = ['beta_pca_0', 'beta_pca_1', 'beta_pca_2', 'beta_pca_3']\n",
    "msgw_data.groupby('year')[select_feature].mean().plot()"
   ]
  },
  {
   "cell_type": "markdown",
   "metadata": {},
   "source": []
  },
  {
   "cell_type": "code",
   "execution_count": null,
   "metadata": {},
   "outputs": [],
   "source": []
  },
  {
   "cell_type": "code",
   "execution_count": 3,
   "metadata": {},
   "outputs": [],
   "source": [
    "pos_path = r'E:\\XMU\\231002_reproduce\\raw_data\\result_pos.csv'\n",
    "size_path = r'E:\\XMU\\231002_reproduce\\raw_data\\result_size.csv'\n",
    "pos = pd.read_csv(pos_path)\n",
    "size = pd.read_csv(size_path)\n",
    "cols = pos.columns.tolist()\n",
    "size_cols = size.columns.tolist()"
   ]
  },
  {
   "cell_type": "code",
   "execution_count": 9,
   "metadata": {},
   "outputs": [],
   "source": [
    "name = size_cols[1:]\n",
    "new_name = []\n",
    "for i in name:\n",
    "    new_name.append(i+'x')\n",
    "    new_name.append(i+'y')\n",
    "pos.columns = pos.columns.tolist()[:1]+new_name"
   ]
  },
  {
   "cell_type": "code",
   "execution_count": 11,
   "metadata": {},
   "outputs": [],
   "source": [
    "pos.to_csv(r'E:\\XMU\\231002_reproduce\\raw_data\\result_pos.csv',index=False)"
   ]
  },
  {
   "cell_type": "code",
   "execution_count": 2,
   "metadata": {},
   "outputs": [],
   "source": [
    "import netCDF4 as nc\n",
    "import pandas as pd\n",
    "from glob import glob\n",
    "import os"
   ]
  },
  {
   "cell_type": "code",
   "execution_count": 3,
   "metadata": {},
   "outputs": [],
   "source": [
    "father_path = r'E:\\XMU\\231002_reproduce\\weather_data'\n",
    "data_path = sorted(glob(os.path.join(father_path,'2*','*.nc')))"
   ]
  },
  {
   "cell_type": "code",
   "execution_count": 6,
   "metadata": {},
   "outputs": [
    {
     "ename": "FileNotFoundError",
     "evalue": "[Errno 2] No such file or directory: 'E:\\\\XMU\\\\231002_reproduce\\\\weather_data\\\\2014\\\\data.nc'",
     "output_type": "error",
     "traceback": [
      "\u001b[1;31m---------------------------------------------------------------------------\u001b[0m",
      "\u001b[1;31mFileNotFoundError\u001b[0m                         Traceback (most recent call last)",
      "\u001b[1;32me:\\XMU\\231002_reproduce\\code\\2015analysis.ipynb 单元格 12\u001b[0m line \u001b[0;36m2\n\u001b[0;32m      <a href='vscode-notebook-cell:/e%3A/XMU/231002%E5%A4%8D%E7%8E%B0/code/2015analysis.ipynb#X25sZmlsZQ%3D%3D?line=0'>1</a>\u001b[0m \u001b[39mfor\u001b[39;00m file \u001b[39min\u001b[39;00m data_path:\n\u001b[1;32m----> <a href='vscode-notebook-cell:/e%3A/XMU/231002%E5%A4%8D%E7%8E%B0/code/2015analysis.ipynb#X25sZmlsZQ%3D%3D?line=1'>2</a>\u001b[0m     data \u001b[39m=\u001b[39m nc\u001b[39m.\u001b[39;49mDataset(file)\n\u001b[0;32m      <a href='vscode-notebook-cell:/e%3A/XMU/231002%E5%A4%8D%E7%8E%B0/code/2015analysis.ipynb#X25sZmlsZQ%3D%3D?line=2'>3</a>\u001b[0m     \u001b[39mprint\u001b[39m(data\u001b[39m.\u001b[39mvariables\u001b[39m.\u001b[39mkeys())\n\u001b[0;32m      <a href='vscode-notebook-cell:/e%3A/XMU/231002%E5%A4%8D%E7%8E%B0/code/2015analysis.ipynb#X25sZmlsZQ%3D%3D?line=3'>4</a>\u001b[0m     \u001b[39mbreak\u001b[39;00m\n",
      "File \u001b[1;32msrc\\netCDF4\\_netCDF4.pyx:2464\u001b[0m, in \u001b[0;36mnetCDF4._netCDF4.Dataset.__init__\u001b[1;34m()\u001b[0m\n",
      "File \u001b[1;32msrc\\netCDF4\\_netCDF4.pyx:2027\u001b[0m, in \u001b[0;36mnetCDF4._netCDF4._ensure_nc_success\u001b[1;34m()\u001b[0m\n",
      "\u001b[1;31mFileNotFoundError\u001b[0m: [Errno 2] No such file or directory: 'E:\\\\XMU\\\\231002_reproduce\\\\weather_data\\\\2014\\\\data.nc'"
     ]
    }
   ],
   "source": [
    "for file in data_path:\n",
    "    data = nc.Dataset(file)\n",
    "    print(data.variables.keys())\n",
    "    break"
   ]
  },
  {
   "cell_type": "code",
   "execution_count": null,
   "metadata": {},
   "outputs": [],
   "source": []
  },
  {
   "cell_type": "code",
   "execution_count": null,
   "metadata": {},
   "outputs": [],
   "source": []
  },
  {
   "cell_type": "code",
   "execution_count": 2,
   "metadata": {},
   "outputs": [],
   "source": [
    "size_path = r'E:\\XMU\\231002_reproduce\\raw_data\\result_size.csv'\n",
    "size_total_path = r'E:\\XMU\\231002_reproduce\\raw_data\\result_size1229.csv'\n",
    "size = pd.read_csv(size_path)\n",
    "size_total = pd.read_csv(size_total_path)"
   ]
  },
  {
   "cell_type": "code",
   "execution_count": 4,
   "metadata": {},
   "outputs": [],
   "source": [
    "size.replace(-1, np.nan, inplace=True)\n",
    "size_total.replace(-1, np.nan, inplace=True)"
   ]
  },
  {
   "cell_type": "code",
   "execution_count": 10,
   "metadata": {},
   "outputs": [
    {
     "data": {
      "text/plain": [
       "./mask/201508ddyw.tif    845\n",
       "./mask/20151017sp.tif    364\n",
       "dtype: int64"
      ]
     },
     "execution_count": 10,
     "metadata": {},
     "output_type": "execute_result"
    }
   ],
   "source": [
    "size[['./mask/201508ddyw.tif',\n",
    "       './mask/20151017sp.tif']].count()"
   ]
  },
  {
   "cell_type": "code",
   "execution_count": 12,
   "metadata": {},
   "outputs": [
    {
     "data": {
      "text/plain": [
       "2015    845\n",
       "dtype: int64"
      ]
     },
     "execution_count": 12,
     "metadata": {},
     "output_type": "execute_result"
    }
   ],
   "source": [
    "size_total[['2015']].count()"
   ]
  },
  {
   "cell_type": "code",
   "execution_count": 25,
   "metadata": {},
   "outputs": [],
   "source": [
    "date_strings  = size.columns[1:].tolist()"
   ]
  },
  {
   "cell_type": "code",
   "execution_count": 26,
   "metadata": {},
   "outputs": [
    {
     "data": {
      "text/plain": [
       "['./mask/201408ddyw.tif',\n",
       " './mask/201508ddyw.tif',\n",
       " './mask/20151017sp.tif',\n",
       " './mask/20160907.tif',\n",
       " './mask/20161025.tif',\n",
       " './mask/20170714.tif',\n",
       " './mask/20170728.tif',\n",
       " './mask/20171002.tif',\n",
       " './mask/20180729.tif',\n",
       " './mask/20180828.tif',\n",
       " './mask/20180926.tif',\n",
       " './mask/20190828.tif',\n",
       " './mask/20190923.tif',\n",
       " './mask/20200727.tif',\n",
       " './mask/20210717.tif']"
      ]
     },
     "execution_count": 26,
     "metadata": {},
     "output_type": "execute_result"
    }
   ],
   "source": [
    "date_strings "
   ]
  },
  {
   "cell_type": "code",
   "execution_count": 23,
   "metadata": {},
   "outputs": [
    {
     "ename": "AttributeError",
     "evalue": "'NoneType' object has no attribute 'group'",
     "output_type": "error",
     "traceback": [
      "\u001b[1;31m---------------------------------------------------------------------------\u001b[0m",
      "\u001b[1;31mAttributeError\u001b[0m                            Traceback (most recent call last)",
      "\u001b[1;32me:\\XMU\\231002_reproduce\\code\\2015analysis.ipynb 单元格 8\u001b[0m line \u001b[0;36m8\n\u001b[0;32m      <a href='vscode-notebook-cell:/e%3A/XMU/231002%E5%A4%8D%E7%8E%B0/code/2015analysis.ipynb#X10sZmlsZQ%3D%3D?line=4'>5</a>\u001b[0m date_pattern \u001b[39m=\u001b[39m \u001b[39mr\u001b[39m\u001b[39m'\u001b[39m\u001b[39m(\u001b[39m\u001b[39m\\\u001b[39m\u001b[39md\u001b[39m\u001b[39m{8}\u001b[39;00m\u001b[39m)\u001b[39m\u001b[39m'\u001b[39m\n\u001b[0;32m      <a href='vscode-notebook-cell:/e%3A/XMU/231002%E5%A4%8D%E7%8E%B0/code/2015analysis.ipynb#X10sZmlsZQ%3D%3D?line=6'>7</a>\u001b[0m \u001b[39m# 提取日期字符串中的日期部分并将其转换为日期对象\u001b[39;00m\n\u001b[1;32m----> <a href='vscode-notebook-cell:/e%3A/XMU/231002%E5%A4%8D%E7%8E%B0/code/2015analysis.ipynb#X10sZmlsZQ%3D%3D?line=7'>8</a>\u001b[0m dates \u001b[39m=\u001b[39m [datetime\u001b[39m.\u001b[39mstrptime(re\u001b[39m.\u001b[39msearch(date_pattern, s)\u001b[39m.\u001b[39mgroup(), \u001b[39m'\u001b[39m\u001b[39m%\u001b[39m\u001b[39mY\u001b[39m\u001b[39m%\u001b[39m\u001b[39mm\u001b[39m\u001b[39m%d\u001b[39;00m\u001b[39m'\u001b[39m) \u001b[39mfor\u001b[39;00m s \u001b[39min\u001b[39;00m date_strings]\n\u001b[0;32m     <a href='vscode-notebook-cell:/e%3A/XMU/231002%E5%A4%8D%E7%8E%B0/code/2015analysis.ipynb#X10sZmlsZQ%3D%3D?line=9'>10</a>\u001b[0m \u001b[39m# 计算日期之间的差异\u001b[39;00m\n\u001b[0;32m     <a href='vscode-notebook-cell:/e%3A/XMU/231002%E5%A4%8D%E7%8E%B0/code/2015analysis.ipynb#X10sZmlsZQ%3D%3D?line=10'>11</a>\u001b[0m \u001b[39mfor\u001b[39;00m i \u001b[39min\u001b[39;00m \u001b[39mrange\u001b[39m(\u001b[39mlen\u001b[39m(dates)):\n",
      "\u001b[1;32me:\\XMU\\231002_reproduce\\code\\2015analysis.ipynb 单元格 8\u001b[0m line \u001b[0;36m8\n\u001b[0;32m      <a href='vscode-notebook-cell:/e%3A/XMU/231002%E5%A4%8D%E7%8E%B0/code/2015analysis.ipynb#X10sZmlsZQ%3D%3D?line=4'>5</a>\u001b[0m date_pattern \u001b[39m=\u001b[39m \u001b[39mr\u001b[39m\u001b[39m'\u001b[39m\u001b[39m(\u001b[39m\u001b[39m\\\u001b[39m\u001b[39md\u001b[39m\u001b[39m{8}\u001b[39;00m\u001b[39m)\u001b[39m\u001b[39m'\u001b[39m\n\u001b[0;32m      <a href='vscode-notebook-cell:/e%3A/XMU/231002%E5%A4%8D%E7%8E%B0/code/2015analysis.ipynb#X10sZmlsZQ%3D%3D?line=6'>7</a>\u001b[0m \u001b[39m# 提取日期字符串中的日期部分并将其转换为日期对象\u001b[39;00m\n\u001b[1;32m----> <a href='vscode-notebook-cell:/e%3A/XMU/231002%E5%A4%8D%E7%8E%B0/code/2015analysis.ipynb#X10sZmlsZQ%3D%3D?line=7'>8</a>\u001b[0m dates \u001b[39m=\u001b[39m [datetime\u001b[39m.\u001b[39mstrptime(re\u001b[39m.\u001b[39;49msearch(date_pattern, s)\u001b[39m.\u001b[39;49mgroup(), \u001b[39m'\u001b[39m\u001b[39m%\u001b[39m\u001b[39mY\u001b[39m\u001b[39m%\u001b[39m\u001b[39mm\u001b[39m\u001b[39m%d\u001b[39;00m\u001b[39m'\u001b[39m) \u001b[39mfor\u001b[39;00m s \u001b[39min\u001b[39;00m date_strings]\n\u001b[0;32m     <a href='vscode-notebook-cell:/e%3A/XMU/231002%E5%A4%8D%E7%8E%B0/code/2015analysis.ipynb#X10sZmlsZQ%3D%3D?line=9'>10</a>\u001b[0m \u001b[39m# 计算日期之间的差异\u001b[39;00m\n\u001b[0;32m     <a href='vscode-notebook-cell:/e%3A/XMU/231002%E5%A4%8D%E7%8E%B0/code/2015analysis.ipynb#X10sZmlsZQ%3D%3D?line=10'>11</a>\u001b[0m \u001b[39mfor\u001b[39;00m i \u001b[39min\u001b[39;00m \u001b[39mrange\u001b[39m(\u001b[39mlen\u001b[39m(dates)):\n",
      "\u001b[1;31mAttributeError\u001b[0m: 'NoneType' object has no attribute 'group'"
     ]
    }
   ],
   "source": [
    "from datetime import datetime\n",
    "import re\n",
    "# 提取日期字符串中的年月日信息并将其转换为日期对象\n",
    "# 定义一个正则表达式模式来匹配日期部分\n",
    "date_pattern = r'(\\d{8})'\n",
    "\n",
    "# 提取日期字符串中的日期部分并将其转换为日期对象\n",
    "dates = [datetime.strptime(re.search(date_pattern, s).group(), '%Y%m%d') for s in date_strings]\n",
    "\n",
    "# 计算日期之间的差异\n",
    "for i in range(len(dates)):\n",
    "    for j in range(i + 1, len(dates)):\n",
    "        delta = abs(dates[i] - dates[j])  # 计算日期差异\n",
    "        print(f\"差异 between {date_strings[i]} and {date_strings[j]}: {delta.days} 天\")"
   ]
  },
  {
   "cell_type": "code",
   "execution_count": null,
   "metadata": {},
   "outputs": [],
   "source": []
  }
 ],
 "metadata": {
  "kernelspec": {
   "display_name": "base",
   "language": "python",
   "name": "python3"
  },
  "language_info": {
   "codemirror_mode": {
    "name": "ipython",
    "version": 3
   },
   "file_extension": ".py",
   "mimetype": "text/x-python",
   "name": "python",
   "nbconvert_exporter": "python",
   "pygments_lexer": "ipython3",
   "version": "3.9.12"
  },
  "orig_nbformat": 4
 },
 "nbformat": 4,
 "nbformat_minor": 2
}
